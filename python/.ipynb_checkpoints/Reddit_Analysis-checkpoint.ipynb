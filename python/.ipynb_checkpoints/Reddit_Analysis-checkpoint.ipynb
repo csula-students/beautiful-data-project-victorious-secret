{
 "cells": [
  {
   "cell_type": "markdown",
   "metadata": {},
   "source": [
    "Machine Learning Analytics on Reddit Database\n",
    "\n",
    "Datacount: 3.5 million  \n",
    "Datasize : 12GB"
   ]
  },
  {
   "cell_type": "markdown",
   "metadata": {},
   "source": [
    "## Import Libraries"
   ]
  },
  {
   "cell_type": "code",
   "execution_count": 1,
   "metadata": {
    "collapsed": false
   },
   "outputs": [],
   "source": [
    "from pymongo import MongoClient"
   ]
  },
  {
   "cell_type": "code",
   "execution_count": 2,
   "metadata": {
    "collapsed": true
   },
   "outputs": [],
   "source": [
    "client = MongoClient('localhost', 27017)\n",
    "db = client['reddit']\n",
    "collection = db['posts_with_sentiment']"
   ]
  },
  {
   "cell_type": "code",
   "execution_count": 3,
   "metadata": {
    "collapsed": true
   },
   "outputs": [],
   "source": [
    "import pandas as pd\n",
    "import json\n",
    "from datetime import datetime"
   ]
  },
  {
   "cell_type": "markdown",
   "metadata": {
    "collapsed": true
   },
   "source": [
    "### Load Data"
   ]
  },
  {
   "cell_type": "code",
   "execution_count": 4,
   "metadata": {
    "collapsed": false
   },
   "outputs": [],
   "source": [
    "# cursor = collection.find()\n",
    "# count = 0\n",
    "# docs = []\n",
    "\n",
    "# for doc in cursor:\n",
    "#     comments = doc['comments']\n",
    "    \n",
    "#     if len(comments) >= 5:\n",
    "        \n",
    "#         post = {}\n",
    "        \n",
    "#         count = count + 1\n",
    "        \n",
    "#         post['pid'] = doc['id']\n",
    "#         post['score'] = doc['score']\n",
    "#         post['comments_count'] = doc['comments_count']\n",
    "#         post['is_self'] = doc['is_self']\n",
    "\n",
    "#         dt_obj = datetime.fromtimestamp(doc['timestamp'] / 1000)\n",
    "#         post['hour'] = dt_obj.hour\n",
    "#         post['subreddit'] = doc['subreddit']\n",
    "        \n",
    "#         comment_sent = 0\n",
    "#         controv = 0\n",
    "#         for comment in comments:\n",
    "#             comment_sent = comment_sent + comment['sentiment']\n",
    "#             controv = controv + comment['controversiality']\n",
    "   \n",
    "#         if comment_sent > 0:\n",
    "#             sentiment = 'positive'\n",
    "#         elif comment_sent < 0:\n",
    "#             sentiment = 'negative'\n",
    "#         else:\n",
    "#             sentiment = 'neutral'\n",
    "                \n",
    "#         post['comments_sentiment'] = sentiment\n",
    "#         post['controversiality'] = controv\n",
    "        \n",
    "#         docs.append(post)\n",
    "        \n",
    "#         if count % 10000 == 0:\n",
    "#             print count\n",
    "    \n",
    "    \n",
    "    \n",
    "# df = pd.DataFrame.from_records(docs)\n",
    "# len(df)"
   ]
  },
  {
   "cell_type": "markdown",
   "metadata": {},
   "source": [
    "### Save data for faster access in future"
   ]
  },
  {
   "cell_type": "code",
   "execution_count": 25,
   "metadata": {
    "collapsed": true
   },
   "outputs": [],
   "source": [
    "#df.to_csv('data.csv')"
   ]
  },
  {
   "cell_type": "code",
   "execution_count": null,
   "metadata": {
    "collapsed": true
   },
   "outputs": [],
   "source": []
  },
  {
   "cell_type": "markdown",
   "metadata": {},
   "source": [
    "### Load data from saved file"
   ]
  },
  {
   "cell_type": "code",
   "execution_count": 5,
   "metadata": {
    "collapsed": true
   },
   "outputs": [],
   "source": [
    "df = pd.read_csv('data.csv')"
   ]
  },
  {
   "cell_type": "code",
   "execution_count": 10,
   "metadata": {
    "collapsed": false,
    "scrolled": true
   },
   "outputs": [
    {
     "data": {
      "text/html": [
       "<div>\n",
       "<table border=\"1\" class=\"dataframe\">\n",
       "  <thead>\n",
       "    <tr style=\"text-align: right;\">\n",
       "      <th></th>\n",
       "      <th>comments_count</th>\n",
       "      <th>comments_sentiment</th>\n",
       "      <th>controversiality</th>\n",
       "      <th>hour</th>\n",
       "      <th>is_self</th>\n",
       "      <th>pid</th>\n",
       "      <th>score</th>\n",
       "      <th>subreddit</th>\n",
       "      <th>comments_sentiment1</th>\n",
       "      <th>is_self1</th>\n",
       "      <th>subreddit1</th>\n",
       "      <th>controversial</th>\n",
       "      <th>popular</th>\n",
       "    </tr>\n",
       "  </thead>\n",
       "  <tbody>\n",
       "    <tr>\n",
       "      <th>0</th>\n",
       "      <td>247</td>\n",
       "      <td>positive</td>\n",
       "      <td>2</td>\n",
       "      <td>17</td>\n",
       "      <td>True</td>\n",
       "      <td>4g4dz7</td>\n",
       "      <td>1</td>\n",
       "      <td>pokemon</td>\n",
       "      <td>2</td>\n",
       "      <td>1</td>\n",
       "      <td>13301</td>\n",
       "      <td>1</td>\n",
       "      <td>0</td>\n",
       "    </tr>\n",
       "    <tr>\n",
       "      <th>1</th>\n",
       "      <td>13</td>\n",
       "      <td>positive</td>\n",
       "      <td>0</td>\n",
       "      <td>17</td>\n",
       "      <td>False</td>\n",
       "      <td>4g4dyf</td>\n",
       "      <td>1</td>\n",
       "      <td>hawks</td>\n",
       "      <td>2</td>\n",
       "      <td>0</td>\n",
       "      <td>11222</td>\n",
       "      <td>0</td>\n",
       "      <td>0</td>\n",
       "    </tr>\n",
       "    <tr>\n",
       "      <th>2</th>\n",
       "      <td>36</td>\n",
       "      <td>positive</td>\n",
       "      <td>0</td>\n",
       "      <td>17</td>\n",
       "      <td>True</td>\n",
       "      <td>4g4dys</td>\n",
       "      <td>1</td>\n",
       "      <td>AskReddit</td>\n",
       "      <td>2</td>\n",
       "      <td>1</td>\n",
       "      <td>621</td>\n",
       "      <td>0</td>\n",
       "      <td>0</td>\n",
       "    </tr>\n",
       "    <tr>\n",
       "      <th>3</th>\n",
       "      <td>7</td>\n",
       "      <td>negative</td>\n",
       "      <td>0</td>\n",
       "      <td>17</td>\n",
       "      <td>True</td>\n",
       "      <td>4g4dy1</td>\n",
       "      <td>1</td>\n",
       "      <td>NoMansSkyTheGame</td>\n",
       "      <td>0</td>\n",
       "      <td>1</td>\n",
       "      <td>5098</td>\n",
       "      <td>0</td>\n",
       "      <td>0</td>\n",
       "    </tr>\n",
       "    <tr>\n",
       "      <th>4</th>\n",
       "      <td>10</td>\n",
       "      <td>positive</td>\n",
       "      <td>0</td>\n",
       "      <td>17</td>\n",
       "      <td>True</td>\n",
       "      <td>4g4dxy</td>\n",
       "      <td>1</td>\n",
       "      <td>MtF</td>\n",
       "      <td>2</td>\n",
       "      <td>1</td>\n",
       "      <td>4813</td>\n",
       "      <td>0</td>\n",
       "      <td>0</td>\n",
       "    </tr>\n",
       "  </tbody>\n",
       "</table>\n",
       "</div>"
      ],
      "text/plain": [
       "   comments_count comments_sentiment  controversiality  hour is_self     pid  \\\n",
       "0             247           positive                 2    17    True  4g4dz7   \n",
       "1              13           positive                 0    17   False  4g4dyf   \n",
       "2              36           positive                 0    17    True  4g4dys   \n",
       "3               7           negative                 0    17    True  4g4dy1   \n",
       "4              10           positive                 0    17    True  4g4dxy   \n",
       "\n",
       "   score         subreddit  comments_sentiment1  is_self1  subreddit1  \\\n",
       "0      1           pokemon                    2         1       13301   \n",
       "1      1             hawks                    2         0       11222   \n",
       "2      1         AskReddit                    2         1         621   \n",
       "3      1  NoMansSkyTheGame                    0         1        5098   \n",
       "4      1               MtF                    2         1        4813   \n",
       "\n",
       "   controversial  popular  \n",
       "0              1        0  \n",
       "1              0        0  \n",
       "2              0        0  \n",
       "3              0        0  \n",
       "4              0        0  "
      ]
     },
     "execution_count": 10,
     "metadata": {},
     "output_type": "execute_result"
    }
   ],
   "source": [
    "# df = df.drop('Unnamed: 0', 1)\n",
    "df.head()"
   ]
  },
  {
   "cell_type": "code",
   "execution_count": null,
   "metadata": {
    "collapsed": true
   },
   "outputs": [],
   "source": []
  },
  {
   "cell_type": "markdown",
   "metadata": {},
   "source": [
    "### Among 3.5 million posts, there are 767818 Posts with comments count >= 5"
   ]
  },
  {
   "cell_type": "code",
   "execution_count": 11,
   "metadata": {
    "collapsed": false
   },
   "outputs": [
    {
     "data": {
      "text/plain": [
       "767818"
      ]
     },
     "execution_count": 11,
     "metadata": {},
     "output_type": "execute_result"
    }
   ],
   "source": [
    "len(df)"
   ]
  },
  {
   "cell_type": "markdown",
   "metadata": {},
   "source": [
    "### Categorize Strings into integers"
   ]
  },
  {
   "cell_type": "code",
   "execution_count": 12,
   "metadata": {
    "collapsed": true
   },
   "outputs": [],
   "source": [
    "array = df['comments_sentiment']\n",
    "cats= pd.Categorical(array)\n",
    "df['comments_sentiment1'] = cats.codes\n",
    "\n",
    "array = df['is_self']\n",
    "cats= pd.Categorical(array)\n",
    "df['is_self1'] = cats.codes\n",
    "\n",
    "array = df['subreddit']\n",
    "cats= pd.Categorical(array)\n",
    "df['subreddit1'] = cats.codes"
   ]
  },
  {
   "cell_type": "code",
   "execution_count": 13,
   "metadata": {
    "collapsed": false
   },
   "outputs": [
    {
     "data": {
      "text/html": [
       "<div>\n",
       "<table border=\"1\" class=\"dataframe\">\n",
       "  <thead>\n",
       "    <tr style=\"text-align: right;\">\n",
       "      <th></th>\n",
       "      <th>comments_count</th>\n",
       "      <th>comments_sentiment</th>\n",
       "      <th>controversiality</th>\n",
       "      <th>hour</th>\n",
       "      <th>is_self</th>\n",
       "      <th>pid</th>\n",
       "      <th>score</th>\n",
       "      <th>subreddit</th>\n",
       "      <th>comments_sentiment1</th>\n",
       "      <th>is_self1</th>\n",
       "      <th>subreddit1</th>\n",
       "      <th>controversial</th>\n",
       "      <th>popular</th>\n",
       "    </tr>\n",
       "  </thead>\n",
       "  <tbody>\n",
       "    <tr>\n",
       "      <th>0</th>\n",
       "      <td>247</td>\n",
       "      <td>positive</td>\n",
       "      <td>2</td>\n",
       "      <td>17</td>\n",
       "      <td>True</td>\n",
       "      <td>4g4dz7</td>\n",
       "      <td>1</td>\n",
       "      <td>pokemon</td>\n",
       "      <td>2</td>\n",
       "      <td>1</td>\n",
       "      <td>13301</td>\n",
       "      <td>1</td>\n",
       "      <td>0</td>\n",
       "    </tr>\n",
       "    <tr>\n",
       "      <th>1</th>\n",
       "      <td>13</td>\n",
       "      <td>positive</td>\n",
       "      <td>0</td>\n",
       "      <td>17</td>\n",
       "      <td>False</td>\n",
       "      <td>4g4dyf</td>\n",
       "      <td>1</td>\n",
       "      <td>hawks</td>\n",
       "      <td>2</td>\n",
       "      <td>0</td>\n",
       "      <td>11222</td>\n",
       "      <td>0</td>\n",
       "      <td>0</td>\n",
       "    </tr>\n",
       "    <tr>\n",
       "      <th>2</th>\n",
       "      <td>36</td>\n",
       "      <td>positive</td>\n",
       "      <td>0</td>\n",
       "      <td>17</td>\n",
       "      <td>True</td>\n",
       "      <td>4g4dys</td>\n",
       "      <td>1</td>\n",
       "      <td>AskReddit</td>\n",
       "      <td>2</td>\n",
       "      <td>1</td>\n",
       "      <td>621</td>\n",
       "      <td>0</td>\n",
       "      <td>0</td>\n",
       "    </tr>\n",
       "    <tr>\n",
       "      <th>3</th>\n",
       "      <td>7</td>\n",
       "      <td>negative</td>\n",
       "      <td>0</td>\n",
       "      <td>17</td>\n",
       "      <td>True</td>\n",
       "      <td>4g4dy1</td>\n",
       "      <td>1</td>\n",
       "      <td>NoMansSkyTheGame</td>\n",
       "      <td>0</td>\n",
       "      <td>1</td>\n",
       "      <td>5098</td>\n",
       "      <td>0</td>\n",
       "      <td>0</td>\n",
       "    </tr>\n",
       "    <tr>\n",
       "      <th>4</th>\n",
       "      <td>10</td>\n",
       "      <td>positive</td>\n",
       "      <td>0</td>\n",
       "      <td>17</td>\n",
       "      <td>True</td>\n",
       "      <td>4g4dxy</td>\n",
       "      <td>1</td>\n",
       "      <td>MtF</td>\n",
       "      <td>2</td>\n",
       "      <td>1</td>\n",
       "      <td>4813</td>\n",
       "      <td>0</td>\n",
       "      <td>0</td>\n",
       "    </tr>\n",
       "  </tbody>\n",
       "</table>\n",
       "</div>"
      ],
      "text/plain": [
       "   comments_count comments_sentiment  controversiality  hour is_self     pid  \\\n",
       "0             247           positive                 2    17    True  4g4dz7   \n",
       "1              13           positive                 0    17   False  4g4dyf   \n",
       "2              36           positive                 0    17    True  4g4dys   \n",
       "3               7           negative                 0    17    True  4g4dy1   \n",
       "4              10           positive                 0    17    True  4g4dxy   \n",
       "\n",
       "   score         subreddit  comments_sentiment1  is_self1  subreddit1  \\\n",
       "0      1           pokemon                    2         1       13301   \n",
       "1      1             hawks                    2         0       11222   \n",
       "2      1         AskReddit                    2         1         621   \n",
       "3      1  NoMansSkyTheGame                    0         1        5098   \n",
       "4      1               MtF                    2         1        4813   \n",
       "\n",
       "   controversial  popular  \n",
       "0              1        0  \n",
       "1              0        0  \n",
       "2              0        0  \n",
       "3              0        0  \n",
       "4              0        0  "
      ]
     },
     "execution_count": 13,
     "metadata": {},
     "output_type": "execute_result"
    }
   ],
   "source": [
    "df.head()"
   ]
  },
  {
   "cell_type": "code",
   "execution_count": 14,
   "metadata": {
    "collapsed": true
   },
   "outputs": [],
   "source": [
    "def isControversial(x):\n",
    "    if x > 0:\n",
    "        return 1\n",
    "    else:\n",
    "        return 0\n",
    "    \n",
    "df['controversial'] = df['controversiality'].apply(isControversial)"
   ]
  },
  {
   "cell_type": "markdown",
   "metadata": {},
   "source": [
    "### Define Functions\n",
    "Popularity is defined by score > 36"
   ]
  },
  {
   "cell_type": "code",
   "execution_count": 15,
   "metadata": {
    "collapsed": false
   },
   "outputs": [],
   "source": [
    "def isPopular(x):\n",
    "    if x > 36:\n",
    "        return 1\n",
    "    else:\n",
    "        return 0\n",
    "\n",
    "df['popular'] = df['score'].apply(isPopular)"
   ]
  },
  {
   "cell_type": "code",
   "execution_count": 16,
   "metadata": {
    "collapsed": false
   },
   "outputs": [
    {
     "data": {
      "text/html": [
       "<div>\n",
       "<table border=\"1\" class=\"dataframe\">\n",
       "  <thead>\n",
       "    <tr style=\"text-align: right;\">\n",
       "      <th></th>\n",
       "      <th>comments_count</th>\n",
       "      <th>comments_sentiment</th>\n",
       "      <th>controversiality</th>\n",
       "      <th>hour</th>\n",
       "      <th>is_self</th>\n",
       "      <th>pid</th>\n",
       "      <th>score</th>\n",
       "      <th>subreddit</th>\n",
       "      <th>comments_sentiment1</th>\n",
       "      <th>is_self1</th>\n",
       "      <th>subreddit1</th>\n",
       "      <th>controversial</th>\n",
       "      <th>popular</th>\n",
       "    </tr>\n",
       "  </thead>\n",
       "  <tbody>\n",
       "    <tr>\n",
       "      <th>0</th>\n",
       "      <td>247</td>\n",
       "      <td>positive</td>\n",
       "      <td>2</td>\n",
       "      <td>17</td>\n",
       "      <td>True</td>\n",
       "      <td>4g4dz7</td>\n",
       "      <td>1</td>\n",
       "      <td>pokemon</td>\n",
       "      <td>2</td>\n",
       "      <td>1</td>\n",
       "      <td>13301</td>\n",
       "      <td>1</td>\n",
       "      <td>0</td>\n",
       "    </tr>\n",
       "    <tr>\n",
       "      <th>1</th>\n",
       "      <td>13</td>\n",
       "      <td>positive</td>\n",
       "      <td>0</td>\n",
       "      <td>17</td>\n",
       "      <td>False</td>\n",
       "      <td>4g4dyf</td>\n",
       "      <td>1</td>\n",
       "      <td>hawks</td>\n",
       "      <td>2</td>\n",
       "      <td>0</td>\n",
       "      <td>11222</td>\n",
       "      <td>0</td>\n",
       "      <td>0</td>\n",
       "    </tr>\n",
       "    <tr>\n",
       "      <th>2</th>\n",
       "      <td>36</td>\n",
       "      <td>positive</td>\n",
       "      <td>0</td>\n",
       "      <td>17</td>\n",
       "      <td>True</td>\n",
       "      <td>4g4dys</td>\n",
       "      <td>1</td>\n",
       "      <td>AskReddit</td>\n",
       "      <td>2</td>\n",
       "      <td>1</td>\n",
       "      <td>621</td>\n",
       "      <td>0</td>\n",
       "      <td>0</td>\n",
       "    </tr>\n",
       "    <tr>\n",
       "      <th>3</th>\n",
       "      <td>7</td>\n",
       "      <td>negative</td>\n",
       "      <td>0</td>\n",
       "      <td>17</td>\n",
       "      <td>True</td>\n",
       "      <td>4g4dy1</td>\n",
       "      <td>1</td>\n",
       "      <td>NoMansSkyTheGame</td>\n",
       "      <td>0</td>\n",
       "      <td>1</td>\n",
       "      <td>5098</td>\n",
       "      <td>0</td>\n",
       "      <td>0</td>\n",
       "    </tr>\n",
       "    <tr>\n",
       "      <th>4</th>\n",
       "      <td>10</td>\n",
       "      <td>positive</td>\n",
       "      <td>0</td>\n",
       "      <td>17</td>\n",
       "      <td>True</td>\n",
       "      <td>4g4dxy</td>\n",
       "      <td>1</td>\n",
       "      <td>MtF</td>\n",
       "      <td>2</td>\n",
       "      <td>1</td>\n",
       "      <td>4813</td>\n",
       "      <td>0</td>\n",
       "      <td>0</td>\n",
       "    </tr>\n",
       "  </tbody>\n",
       "</table>\n",
       "</div>"
      ],
      "text/plain": [
       "   comments_count comments_sentiment  controversiality  hour is_self     pid  \\\n",
       "0             247           positive                 2    17    True  4g4dz7   \n",
       "1              13           positive                 0    17   False  4g4dyf   \n",
       "2              36           positive                 0    17    True  4g4dys   \n",
       "3               7           negative                 0    17    True  4g4dy1   \n",
       "4              10           positive                 0    17    True  4g4dxy   \n",
       "\n",
       "   score         subreddit  comments_sentiment1  is_self1  subreddit1  \\\n",
       "0      1           pokemon                    2         1       13301   \n",
       "1      1             hawks                    2         0       11222   \n",
       "2      1         AskReddit                    2         1         621   \n",
       "3      1  NoMansSkyTheGame                    0         1        5098   \n",
       "4      1               MtF                    2         1        4813   \n",
       "\n",
       "   controversial  popular  \n",
       "0              1        0  \n",
       "1              0        0  \n",
       "2              0        0  \n",
       "3              0        0  \n",
       "4              0        0  "
      ]
     },
     "execution_count": 16,
     "metadata": {},
     "output_type": "execute_result"
    }
   ],
   "source": [
    "df.head()"
   ]
  },
  {
   "cell_type": "markdown",
   "metadata": {},
   "source": [
    "### # of Popular posts"
   ]
  },
  {
   "cell_type": "code",
   "execution_count": 17,
   "metadata": {
    "collapsed": false
   },
   "outputs": [
    {
     "data": {
      "text/plain": [
       "235555"
      ]
     },
     "execution_count": 17,
     "metadata": {},
     "output_type": "execute_result"
    }
   ],
   "source": [
    "len(df[df['popular'] == 1])"
   ]
  },
  {
   "cell_type": "markdown",
   "metadata": {},
   "source": [
    "### Select necessary columns to apply prediction algorithm"
   ]
  },
  {
   "cell_type": "code",
   "execution_count": 18,
   "metadata": {
    "collapsed": true
   },
   "outputs": [],
   "source": [
    "df2 = df[['hour', 'subreddit1', 'comments_sentiment1', 'is_self1', 'controversial', 'popular']]"
   ]
  },
  {
   "cell_type": "code",
   "execution_count": 19,
   "metadata": {
    "collapsed": false
   },
   "outputs": [
    {
     "data": {
      "text/html": [
       "<div>\n",
       "<table border=\"1\" class=\"dataframe\">\n",
       "  <thead>\n",
       "    <tr style=\"text-align: right;\">\n",
       "      <th></th>\n",
       "      <th>hour</th>\n",
       "      <th>subreddit1</th>\n",
       "      <th>comments_sentiment1</th>\n",
       "      <th>is_self1</th>\n",
       "      <th>controversial</th>\n",
       "      <th>popular</th>\n",
       "    </tr>\n",
       "  </thead>\n",
       "  <tbody>\n",
       "    <tr>\n",
       "      <th>0</th>\n",
       "      <td>17</td>\n",
       "      <td>13301</td>\n",
       "      <td>2</td>\n",
       "      <td>1</td>\n",
       "      <td>1</td>\n",
       "      <td>0</td>\n",
       "    </tr>\n",
       "    <tr>\n",
       "      <th>1</th>\n",
       "      <td>17</td>\n",
       "      <td>11222</td>\n",
       "      <td>2</td>\n",
       "      <td>0</td>\n",
       "      <td>0</td>\n",
       "      <td>0</td>\n",
       "    </tr>\n",
       "    <tr>\n",
       "      <th>2</th>\n",
       "      <td>17</td>\n",
       "      <td>621</td>\n",
       "      <td>2</td>\n",
       "      <td>1</td>\n",
       "      <td>0</td>\n",
       "      <td>0</td>\n",
       "    </tr>\n",
       "    <tr>\n",
       "      <th>3</th>\n",
       "      <td>17</td>\n",
       "      <td>5098</td>\n",
       "      <td>0</td>\n",
       "      <td>1</td>\n",
       "      <td>0</td>\n",
       "      <td>0</td>\n",
       "    </tr>\n",
       "    <tr>\n",
       "      <th>4</th>\n",
       "      <td>17</td>\n",
       "      <td>4813</td>\n",
       "      <td>2</td>\n",
       "      <td>1</td>\n",
       "      <td>0</td>\n",
       "      <td>0</td>\n",
       "    </tr>\n",
       "  </tbody>\n",
       "</table>\n",
       "</div>"
      ],
      "text/plain": [
       "   hour  subreddit1  comments_sentiment1  is_self1  controversial  popular\n",
       "0    17       13301                    2         1              1        0\n",
       "1    17       11222                    2         0              0        0\n",
       "2    17         621                    2         1              0        0\n",
       "3    17        5098                    0         1              0        0\n",
       "4    17        4813                    2         1              0        0"
      ]
     },
     "execution_count": 19,
     "metadata": {},
     "output_type": "execute_result"
    }
   ],
   "source": [
    "df2.head()"
   ]
  },
  {
   "cell_type": "code",
   "execution_count": null,
   "metadata": {
    "collapsed": true
   },
   "outputs": [],
   "source": []
  },
  {
   "cell_type": "code",
   "execution_count": 20,
   "metadata": {
    "collapsed": true
   },
   "outputs": [],
   "source": [
    "data = df2.values[:]"
   ]
  },
  {
   "cell_type": "code",
   "execution_count": 21,
   "metadata": {
    "collapsed": false
   },
   "outputs": [
    {
     "data": {
      "text/plain": [
       "array([[   17, 13301,     2,     1,     1,     0],\n",
       "       [   17, 11222,     2,     0,     0,     0],\n",
       "       [   17,   621,     2,     1,     0,     0],\n",
       "       ..., \n",
       "       [    8, 13326,     2,     0,     1,     1],\n",
       "       [    8, 14087,     2,     0,     0,     0],\n",
       "       [    8,  8617,     2,     1,     0,     0]])"
      ]
     },
     "execution_count": 21,
     "metadata": {},
     "output_type": "execute_result"
    }
   ],
   "source": [
    "data"
   ]
  },
  {
   "cell_type": "code",
   "execution_count": null,
   "metadata": {
    "collapsed": true
   },
   "outputs": [],
   "source": []
  },
  {
   "cell_type": "markdown",
   "metadata": {},
   "source": [
    "### Split into train set and test set"
   ]
  },
  {
   "cell_type": "code",
   "execution_count": 22,
   "metadata": {
    "collapsed": true
   },
   "outputs": [],
   "source": [
    "from sklearn.cross_validation import train_test_split"
   ]
  },
  {
   "cell_type": "code",
   "execution_count": 23,
   "metadata": {
    "collapsed": true
   },
   "outputs": [],
   "source": [
    "X_train, X_test, y_train, y_test = train_test_split(data[:, :5], data[:, 5], test_size=0.33, random_state=2)"
   ]
  },
  {
   "cell_type": "code",
   "execution_count": 24,
   "metadata": {
    "collapsed": false
   },
   "outputs": [
    {
     "data": {
      "text/plain": [
       "array([[    5,  3383,     2,     1,     0],\n",
       "       [   11,  2819,     2,     0,     0],\n",
       "       [    2,  9067,     2,     1,     0],\n",
       "       ..., \n",
       "       [   19,  4447,     2,     1,     0],\n",
       "       [   22,  3164,     2,     0,     1],\n",
       "       [   18, 13122,     0,     1,     0]])"
      ]
     },
     "execution_count": 24,
     "metadata": {},
     "output_type": "execute_result"
    }
   ],
   "source": [
    "X_train"
   ]
  },
  {
   "cell_type": "code",
   "execution_count": 25,
   "metadata": {
    "collapsed": false
   },
   "outputs": [
    {
     "data": {
      "text/plain": [
       "array([0, 0, 1, ..., 1, 0, 0])"
      ]
     },
     "execution_count": 25,
     "metadata": {},
     "output_type": "execute_result"
    }
   ],
   "source": [
    "y_train"
   ]
  },
  {
   "cell_type": "code",
   "execution_count": null,
   "metadata": {
    "collapsed": true
   },
   "outputs": [],
   "source": []
  },
  {
   "cell_type": "markdown",
   "metadata": {},
   "source": [
    "### Naive Bayes"
   ]
  },
  {
   "cell_type": "code",
   "execution_count": 26,
   "metadata": {
    "collapsed": false
   },
   "outputs": [
    {
     "name": "stdout",
     "output_type": "stream",
     "text": [
      "             precision    recall  f1-score   support\n",
      "\n",
      "          0       0.85      0.79      0.82    175377\n",
      "          1       0.59      0.68      0.63     78003\n",
      "\n",
      "avg / total       0.77      0.76      0.76    253380\n",
      "\n"
     ]
    }
   ],
   "source": [
    "from sklearn.naive_bayes import GaussianNB\n",
    "from sklearn.metrics import classification_report\n",
    "\n",
    "clf_NB = GaussianNB()\n",
    "nb_dec = clf_NB.fit(X_train, y_train)\n",
    "output_NB = clf_NB.predict(X_test)\n",
    "from sklearn.metrics import accuracy_score\n",
    "accuracy_NB = accuracy_score(y_test, output_NB)\n",
    "accuracy_NB\n",
    "\n",
    "print classification_report(y_test,output_NB)"
   ]
  },
  {
   "cell_type": "code",
   "execution_count": null,
   "metadata": {
    "collapsed": true
   },
   "outputs": [],
   "source": []
  },
  {
   "cell_type": "markdown",
   "metadata": {},
   "source": [
    "### SVM (takes too long, computer froze)"
   ]
  },
  {
   "cell_type": "code",
   "execution_count": 27,
   "metadata": {
    "collapsed": true
   },
   "outputs": [],
   "source": [
    "# from sklearn.svm import SVC\n",
    "# clf_svm = SVC()\n",
    "# svm_dec = clf_svm.fit(X_train, y_train)\n",
    "# output_svm = clf_svm.predict(X_test)\n",
    "# accuracy_svm = accuracy_score(y_test, output_svm)\n",
    "# accuracy_svm\n",
    "\n",
    "# print classification_report(y_test,output_svm)"
   ]
  },
  {
   "cell_type": "code",
   "execution_count": null,
   "metadata": {
    "collapsed": true
   },
   "outputs": [],
   "source": []
  },
  {
   "cell_type": "markdown",
   "metadata": {
    "collapsed": true
   },
   "source": [
    "### Random Forest Classifier (takes too long)"
   ]
  },
  {
   "cell_type": "code",
   "execution_count": 28,
   "metadata": {
    "collapsed": true
   },
   "outputs": [],
   "source": [
    "# from sklearn.ensemble import RandomForestClassifier\n",
    "# clf_forest = RandomForestClassifier(n_estimators = 100, max_features = 5)\n",
    "# rf_dec = clf_forest.fit(X_train, y_train)\n",
    "# output_forest = clf_forest.predict(X_test)\n",
    "# accuracy_forest = accuracy_score(y_test, output_forest)\n",
    "# accuracy_forest\n",
    "\n",
    "# print classification_report(y_test,output_forest)"
   ]
  },
  {
   "cell_type": "code",
   "execution_count": null,
   "metadata": {
    "collapsed": true
   },
   "outputs": [],
   "source": []
  },
  {
   "cell_type": "markdown",
   "metadata": {
    "collapsed": true
   },
   "source": [
    "### Logistic Regression"
   ]
  },
  {
   "cell_type": "code",
   "execution_count": 29,
   "metadata": {
    "collapsed": false
   },
   "outputs": [
    {
     "name": "stdout",
     "output_type": "stream",
     "text": [
      "             precision    recall  f1-score   support\n",
      "\n",
      "          0       0.84      0.83      0.84    175377\n",
      "          1       0.63      0.64      0.64     78003\n",
      "\n",
      "avg / total       0.77      0.77      0.77    253380\n",
      "\n"
     ]
    }
   ],
   "source": [
    "from sklearn.linear_model import LogisticRegression\n",
    "\n",
    "clf_lr = LogisticRegression()\n",
    "lr_score = clf_lr.fit(X_train, y_train)\n",
    "output_lr = clf_lr.predict(X_test)\n",
    "accuracy_lr = accuracy_score(y_test, output_lr)\n",
    "accuracy_lr\n",
    "\n",
    "print classification_report(y_test,output_lr)"
   ]
  },
  {
   "cell_type": "code",
   "execution_count": null,
   "metadata": {
    "collapsed": true
   },
   "outputs": [],
   "source": []
  }
 ],
 "metadata": {
  "kernelspec": {
   "display_name": "Python 2",
   "language": "python",
   "name": "python2"
  },
  "language_info": {
   "codemirror_mode": {
    "name": "ipython",
    "version": 2
   },
   "file_extension": ".py",
   "mimetype": "text/x-python",
   "name": "python",
   "nbconvert_exporter": "python",
   "pygments_lexer": "ipython2",
   "version": "2.7.11"
  }
 },
 "nbformat": 4,
 "nbformat_minor": 0
}
